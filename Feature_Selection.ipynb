{
 "cells": [
  {
   "cell_type": "code",
   "execution_count": 1,
   "metadata": {},
   "outputs": [],
   "source": [
    "import pandas as pd\n",
    "import numpy as np\n",
    "import seaborn as sns\n",
    "from eli5.sklearn import PermutationImportance\n",
    "from sklearn.preprocessing import MinMaxScaler\n",
    "from sklearn.feature_selection import SelectKBest, chi2, f_classif, mutual_info_classif\n",
    "from sklearn.feature_selection import RFECV\n",
    "from sklearn.feature_selection import SelectFromModel\n",
    "from sklearn.feature_selection import SequentialFeatureSelector\n",
    "import matplotlib.pyplot as plt\n",
    "from sklearn.svm import LinearSVC\n",
    "from sklearn.linear_model import LogisticRegression\n",
    "from sklearn.tree import DecisionTreeClassifier\n",
    "from sklearn.ensemble import ExtraTreesClassifier"
   ]
  },
  {
   "cell_type": "markdown",
   "metadata": {},
   "source": [
    "## Load the train and test data set from the 'dataset' folder"
   ]
  },
  {
   "cell_type": "code",
   "execution_count": 2,
   "metadata": {},
   "outputs": [],
   "source": [
    "train_data = pd.read_csv(\"./dataset/train_dataset.csv\")\n",
    "test_data = pd.read_csv(\"./dataset/test_dataset.csv\")"
   ]
  },
  {
   "cell_type": "code",
   "execution_count": 3,
   "metadata": {},
   "outputs": [],
   "source": [
    "#print(train_data.shape)\n",
    "#print(test_data.shape)"
   ]
  },
  {
   "cell_type": "code",
   "execution_count": 4,
   "metadata": {},
   "outputs": [
    {
     "data": {
      "text/plain": [
       "<bound method DataFrame.info of         0    1    2    3         4         5         6         7         8  \\\n",
       "0     0.0  0.0  1.0  1.0  0.001825  0.000148  0.999852  0.008878  0.018790   \n",
       "1     0.0  0.0  0.0  0.0  0.008268  0.000324  0.999676  0.009918  0.008227   \n",
       "2     0.0  0.0  0.0  0.0  0.009266  0.000626  0.999374  0.009355  0.013201   \n",
       "3     0.0  0.0  0.0  0.0  0.002642  0.000214  0.999786  0.010085  0.017735   \n",
       "4     0.0  1.0  0.0  0.0  0.008241  0.000074  0.999926  0.045501  0.001971   \n",
       "...   ...  ...  ...  ...       ...       ...       ...       ...       ...   \n",
       "5587  0.0  1.0  1.0  1.0  0.002551  0.000240  0.999760  0.010058  0.020899   \n",
       "5588  0.0  1.0  0.0  0.0  0.018338  0.000095  0.999905  0.040892  0.001006   \n",
       "5589  0.0  1.0  0.0  0.0  0.040415  0.002947  0.997053  0.022084  0.018438   \n",
       "5590  0.0  0.0  0.0  0.0  0.002667  0.000076  0.999924  0.009826  0.004994   \n",
       "5591  1.0  0.0  0.0  0.0  0.001124  0.000059  0.999941  0.008715  0.006400   \n",
       "\n",
       "             9  ...        31        32        33        34        35  \\\n",
       "0     0.981210  ...  0.838443  0.057065  0.942403  0.004391  0.002937   \n",
       "1     0.991773  ...  0.824525  0.047554  0.791460  0.005651  0.015928   \n",
       "2     0.986799  ...  0.822644  0.027174  0.880834  0.005996  0.008810   \n",
       "3     0.982265  ...  0.822080  0.019022  0.895730  0.006113  0.008710   \n",
       "4     0.998029  ...  0.833553  0.061821  0.832175  0.004655  0.010452   \n",
       "...        ...  ...       ...       ...       ...       ...       ...   \n",
       "5587  0.979101  ...  0.860071  0.020380  0.904667  0.003800  0.005575   \n",
       "5588  0.998994  ...  0.845778  0.029891  0.825223  0.004667  0.011597   \n",
       "5589  0.981562  ...  0.785593  0.097826  0.809335  0.008105  0.021651   \n",
       "5590  0.995006  ...  0.848599  0.022418  0.814300  0.004618  0.011796   \n",
       "5591  0.993600  ...  0.742148  0.195652  0.714002  0.010429  0.036982   \n",
       "\n",
       "            36        37        38        39  koi_disposition  \n",
       "0     0.998845  0.203912  0.380303  0.733604                2  \n",
       "1     0.998202  0.435745  0.303307  0.633198                1  \n",
       "2     0.999068  0.371502  0.386096  0.486560                0  \n",
       "3     0.999186  0.620851  0.644291  0.649657                0  \n",
       "4     0.998517  0.739885  0.214958  0.709205                2  \n",
       "...        ...       ...       ...       ...              ...  \n",
       "5587  0.999318  0.856254  0.257543  0.613762                2  \n",
       "5588  0.998976  0.784312  0.737077  0.699859                2  \n",
       "5589  0.996194  0.370811  0.233663  0.682243                2  \n",
       "5590  0.999226  0.708832  0.761610  0.729137                1  \n",
       "5591  0.992034  0.819478  0.196931  0.383757                2  \n",
       "\n",
       "[5592 rows x 41 columns]>"
      ]
     },
     "execution_count": 4,
     "metadata": {},
     "output_type": "execute_result"
    }
   ],
   "source": [
    "train_data.info"
   ]
  },
  {
   "cell_type": "markdown",
   "metadata": {},
   "source": [
    "## Divide the training data set into data samples and targets/classes"
   ]
  },
  {
   "cell_type": "code",
   "execution_count": 5,
   "metadata": {},
   "outputs": [
    {
     "name": "stdout",
     "output_type": "stream",
     "text": [
      "(5592, 40) (5592,)\n"
     ]
    }
   ],
   "source": [
    "y_train = train_data[\"koi_disposition\"]\n",
    "X_train = train_data.drop(columns=[\"koi_disposition\"])\n",
    "print(X_train.shape, y_train.shape)"
   ]
  },
  {
   "cell_type": "markdown",
   "metadata": {},
   "source": [
    "## Divide the testing data set into data samples and targets/classes"
   ]
  },
  {
   "cell_type": "code",
   "execution_count": 6,
   "metadata": {},
   "outputs": [
    {
     "name": "stdout",
     "output_type": "stream",
     "text": [
      "(1399, 40) (1399,)\n"
     ]
    }
   ],
   "source": [
    "y_test = test_data[\"koi_disposition\"]\n",
    "X_test = test_data.drop(columns=[\"koi_disposition\"])\n",
    "print(X_test.shape, y_test.shape)"
   ]
  },
  {
   "cell_type": "markdown",
   "metadata": {},
   "source": [
    "## Features of this data set"
   ]
  },
  {
   "cell_type": "code",
   "execution_count": 7,
   "metadata": {},
   "outputs": [],
   "source": [
    "features = [\"koi_fpflag_nt\",\"koi_fpflag_ss\",\"koi_fpflag_co\",\"koi_fpflag_ec\",\"koi_period\",\"koi_period_err1\",\n",
    "           \"koi_period_err2\",\"koi_time0bk\",\"koi_time0bk_err1\",\"koi_time0bk_err2\",\"koi_impact\",\"koi_impact_err1\",\"koi_impact_err2\",\n",
    "           \"koi_duration\",\"koi_duration_err1\",\"koi_duration_err2\",\"koi_depth\",\"koi_depth_err1\",\"koi_depth_err2\",\"koi_prad\",\n",
    "           \"koi_prad_err1\",\"koi_prad_err2\",\"koi_teq\",\"koi_insol\",\"koi_insol_err1\",\"koi_insol_err2\",\"koi_model_snr\",\"koi_tce_plnt_num\",\n",
    "           \"koi_steff\",\"koi_steff_err1\",\"koi_steff_err2\",\"koi_slogg\",\"koi_slogg_err1\",\"koi_slogg_err2\",\"koi_srad\",\"koi_srad_err1\",\n",
    "           \"koi_srad_err2\",\"ra\",\"dec\",\"koi_kepmag\"]"
   ]
  },
  {
   "cell_type": "code",
   "execution_count": 8,
   "metadata": {},
   "outputs": [
    {
     "name": "stdout",
     "output_type": "stream",
     "text": [
      "40\n"
     ]
    }
   ],
   "source": [
    "print(len(features))"
   ]
  },
  {
   "cell_type": "markdown",
   "metadata": {},
   "source": [
    "## Using Scikit-Learn's feature_selection package"
   ]
  },
  {
   "cell_type": "markdown",
   "metadata": {},
   "source": [
    "### **Univariate feature selection**\n",
    "#### We can perform SelectKBest or SelectPercentile\n",
    "#### Performing SelectKBest with the following score_func\n",
    "- f_classif (*default*)\n",
    "- mutual_info_classif (*Note: mutual information doesn't return any p-values*)\n",
    "- chi2"
   ]
  },
  {
   "cell_type": "markdown",
   "metadata": {},
   "source": [
    "#### Here K is the hyper-parameter, which can be learned [default K = 10, K = \"all\" for parameter search]\n",
    "#### Note: percentile in the hyper-parameter for SelectPercentile"
   ]
  },
  {
   "cell_type": "markdown",
   "metadata": {},
   "source": [
    "#### Fit the data set first to obtain the scores and corresponding p-value for all the features"
   ]
  },
  {
   "cell_type": "code",
   "execution_count": 9,
   "metadata": {},
   "outputs": [],
   "source": [
    "# Create a model\n",
    "model = SelectKBest(chi2, k=20).fit(X_train, y_train)"
   ]
  },
  {
   "cell_type": "code",
   "execution_count": 10,
   "metadata": {},
   "outputs": [
    {
     "name": "stdout",
     "output_type": "stream",
     "text": [
      "Masked Selected Features are: [ True  True  True  True  True  True False False  True False  True  True\n",
      " False  True  True False  True False False False False False  True False\n",
      " False False  True  True False  True False False  True False False  True\n",
      " False  True  True False]\n",
      "\n",
      " Features' score is: [8.26850929e+02 1.23552569e+03 1.10148823e+03 6.82573671e+02\n",
      " 3.05315853e+01 1.98191765e+01 2.46451612e-01 2.55037859e+00\n",
      " 1.16118262e+01 1.97682471e-01 6.11776729e+00 3.81783381e+01\n",
      " 4.28328885e-04 8.74558138e+00 1.22228963e+01 1.98990634e-01\n",
      " 7.72189161e+01 1.34338182e+00 5.15362530e-04 2.96687192e+00\n",
      " 4.99072614e+00 1.14727848e-03 2.09298499e+01 2.15150158e+00\n",
      " 3.08662262e+00 1.52161259e-03 9.37182432e+01 6.73697072e+01\n",
      " 3.08817658e+00 2.58671603e+01 1.28304302e+00 1.21108540e+00\n",
      " 1.25166669e+01 2.58836889e+00 3.73351957e+00 9.39098783e+00\n",
      " 2.01779748e-02 1.28006468e+01 8.79291549e+00 3.58233611e-01]\n",
      "\n",
      " Features' pvalue is: [2.82879879e-180 5.11687623e-269 6.52933322e-240 6.03963345e-149\n",
      " 2.34504125e-007 4.96958932e-005 8.84064013e-001 2.79378079e-001\n",
      " 3.00970538e-003 9.05886519e-001 4.69400677e-002 5.12482722e-009\n",
      " 9.99785858e-001 1.26159841e-002 2.21733740e-003 9.05294189e-001\n",
      " 1.70657517e-017 5.10844057e-001 9.99742352e-001 2.26856876e-001\n",
      " 8.24665048e-002 9.99426525e-001 2.85194297e-005 3.41041609e-001\n",
      " 2.13672393e-001 9.99239483e-001 4.46007396e-021 2.34884282e-015\n",
      " 2.13506439e-001 2.41555817e-006 5.26490753e-001 5.45778152e-001\n",
      " 1.91443360e-003 2.74121334e-001 1.54623866e-001 9.13635367e-003\n",
      " 9.89961736e-001 1.66102005e-003 1.23209065e-002 8.36008243e-001] \n"
     ]
    }
   ],
   "source": [
    "#\n",
    "# Mask for the selected features\n",
    "#\n",
    "selected_features=model.get_support()\n",
    "#\n",
    "# Return scores for the features\n",
    "#\n",
    "features_score = model.scores_\n",
    "#\n",
    "# Return pvalue for the features\n",
    "#\n",
    "features_pvalue = model.pvalues_\n",
    "print(f\"Masked Selected Features are: {selected_features}\\n\\n Features' score is: {features_score}\\n\\n Features' pvalue is: {features_pvalue} \")"
   ]
  },
  {
   "cell_type": "markdown",
   "metadata": {},
   "source": [
    "### To obtain the transformed data set without using the transform()"
   ]
  },
  {
   "cell_type": "code",
   "execution_count": 11,
   "metadata": {},
   "outputs": [
    {
     "name": "stdout",
     "output_type": "stream",
     "text": [
      "(5592, 20) (1399, 20)\n"
     ]
    }
   ],
   "source": [
    "X_train_transformed = X_train.loc[:,selected_features]\n",
    "X_test_transformed = X_test.loc[:,selected_features]\n",
    "print(X_train_transformed.shape, X_test_transformed.shape)"
   ]
  },
  {
   "cell_type": "markdown",
   "metadata": {},
   "source": [
    "### To obtain the transformed data set with using the transform()"
   ]
  },
  {
   "cell_type": "code",
   "execution_count": 12,
   "metadata": {},
   "outputs": [],
   "source": [
    "# X_train_transformed = model.transform(X_train)\n",
    "# X_test_transformed = model.transform(X_test)\n",
    "# print(X_train_transformed.shape, X_test_transformed.shape)"
   ]
  },
  {
   "cell_type": "markdown",
   "metadata": {},
   "source": [
    "### Features selected after the transformation"
   ]
  },
  {
   "cell_type": "code",
   "execution_count": 13,
   "metadata": {},
   "outputs": [],
   "source": [
    "feature_set = [y for x,y in zip(selected_features, features) if x]\n",
    "#print(feature_set)\n",
    "feature_set_score=features_score[selected_features]\n",
    "#print(feature_set_score)"
   ]
  },
  {
   "cell_type": "markdown",
   "metadata": {},
   "source": [
    "### Plot the Feature Importance"
   ]
  },
  {
   "cell_type": "code",
   "execution_count": 14,
   "metadata": {},
   "outputs": [
    {
     "data": {
      "text/plain": [
       "Text(0.5, 0, 'Score')"
      ]
     },
     "execution_count": 14,
     "metadata": {},
     "output_type": "execute_result"
    },
    {
     "data": {
      "image/png": "[encoded data removed]",
      "text/plain": [
       "<Figure size 864x432 with 1 Axes>"
      ]
     },
     "metadata": {
      "needs_background": "light"
     },
     "output_type": "display_data"
    }
   ],
   "source": [
    "fig, ax = plt.subplots(figsize=(12,6))\n",
    "ax.barh(feature_set, feature_set_score, color='blue')\n",
    "plt.title(\"Feature Importance\")\n",
    "plt.ylabel(\"Features\")\n",
    "plt.xlabel(\"Score\")"
   ]
  },
  {
   "cell_type": "markdown",
   "metadata": {},
   "source": [
    "### **Recursive Feature Elimination**"
   ]
  },
  {
   "cell_type": "markdown",
   "metadata": {},
   "source": [
    "#### Feature ranking with recursive feature elimination and cross-validated selection of the best number of features"
   ]
  },
  {
   "cell_type": "markdown",
   "metadata": {},
   "source": [
    "#### Create a supervised learning estimator with a \"fit\" method that provides information about feature importance either through a \"coef_\" attribute or through a \"feature_importances_\" attribute"
   ]
  },
  {
   "cell_type": "code",
   "execution_count": 15,
   "metadata": {},
   "outputs": [],
   "source": [
    "estimator = LinearSVC()\n",
    "#estimator = DecisionTreeClassifier()\n",
    "selector = RFECV(estimator, step=1, cv=5)\n",
    "selector = selector.fit(X_train, y_train)"
   ]
  },
  {
   "cell_type": "code",
   "execution_count": 16,
   "metadata": {},
   "outputs": [
    {
     "name": "stdout",
     "output_type": "stream",
     "text": [
      "Masked Selected Features are: [ True  True  True  True  True  True  True  True  True  True  True  True\n",
      "  True  True  True  True  True False  True  True  True  True  True  True\n",
      "  True  True  True  True  True  True  True  True  True  True  True  True\n",
      "  True  True  True  True]\n",
      "\n",
      " Features' rank is: [1 1 1 1 1 1 1 1 1 1 1 1 1 1 1 1 1 2 1 1 1 1 1 1 1 1 1 1 1 1 1 1 1 1 1 1 1\n",
      " 1 1 1]\n",
      "\n",
      " Number of features selected: 39 \n"
     ]
    }
   ],
   "source": [
    "#\n",
    "# Mask for the selected features\n",
    "#\n",
    "selected_features=selector.support_\n",
    "#\n",
    "# Return rank for the features [Features that are \"TRUE\" are ranked as \"1\" and are \"selected\"]\n",
    "#\n",
    "features_rank = selector.ranking_\n",
    "#\n",
    "# Return number of features selected\n",
    "#\n",
    "n_features = selector.n_features_\n",
    "print(f\"Masked Selected Features are: {selected_features}\\n\\n Features' rank is: {features_rank}\\n\\n Number of features selected: {n_features} \")"
   ]
  },
  {
   "cell_type": "markdown",
   "metadata": {},
   "source": [
    "### To obtain the transformed data set"
   ]
  },
  {
   "cell_type": "code",
   "execution_count": 17,
   "metadata": {},
   "outputs": [
    {
     "name": "stdout",
     "output_type": "stream",
     "text": [
      "(5592, 39) (1399, 39)\n",
      "     0    1    2    3         4         5         6         7         8  \\\n",
      "0  0.0  0.0  1.0  1.0  0.001825  0.000148  0.999852  0.008878  0.018790   \n",
      "1  0.0  0.0  0.0  0.0  0.008268  0.000324  0.999676  0.009918  0.008227   \n",
      "2  0.0  0.0  0.0  0.0  0.009266  0.000626  0.999374  0.009355  0.013201   \n",
      "3  0.0  0.0  0.0  0.0  0.002642  0.000214  0.999786  0.010085  0.017735   \n",
      "4  0.0  1.0  0.0  0.0  0.008241  0.000074  0.999926  0.045501  0.001971   \n",
      "\n",
      "          9  ...        30        31        32        33        34        35  \\\n",
      "0  0.981210  ...  0.914599  0.838443  0.057065  0.942403  0.004391  0.002937   \n",
      "1  0.991773  ...  0.887478  0.824525  0.047554  0.791460  0.005651  0.015928   \n",
      "2  0.986799  ...  0.926717  0.822644  0.027174  0.880834  0.005996  0.008810   \n",
      "3  0.982265  ...  0.950375  0.822080  0.019022  0.895730  0.006113  0.008710   \n",
      "4  0.998029  ...  0.887478  0.833553  0.061821  0.832175  0.004655  0.010452   \n",
      "\n",
      "         36        37        38        39  \n",
      "0  0.998845  0.203912  0.380303  0.733604  \n",
      "1  0.998202  0.435745  0.303307  0.633198  \n",
      "2  0.999068  0.371502  0.386096  0.486560  \n",
      "3  0.999186  0.620851  0.644291  0.649657  \n",
      "4  0.998517  0.739885  0.214958  0.709205  \n",
      "\n",
      "[5 rows x 39 columns]\n"
     ]
    }
   ],
   "source": [
    "X_train_transformed = X_train.loc[:,selected_features]\n",
    "X_test_transformed = X_test.loc[:,selected_features]\n",
    "print(X_train_transformed.shape, X_test_transformed.shape)\n",
    "print(X_train_transformed.head())"
   ]
  },
  {
   "cell_type": "markdown",
   "metadata": {},
   "source": [
    "### Features selected after the transformation"
   ]
  },
  {
   "cell_type": "code",
   "execution_count": 18,
   "metadata": {},
   "outputs": [
    {
     "name": "stdout",
     "output_type": "stream",
     "text": [
      "['koi_fpflag_nt', 'koi_fpflag_ss', 'koi_fpflag_co', 'koi_fpflag_ec', 'koi_period', 'koi_period_err1', 'koi_period_err2', 'koi_time0bk', 'koi_time0bk_err1', 'koi_time0bk_err2', 'koi_impact', 'koi_impact_err1', 'koi_impact_err2', 'koi_duration', 'koi_duration_err1', 'koi_duration_err2', 'koi_depth', 'koi_depth_err2', 'koi_prad', 'koi_prad_err1', 'koi_prad_err2', 'koi_teq', 'koi_insol', 'koi_insol_err1', 'koi_insol_err2', 'koi_model_snr', 'koi_tce_plnt_num', 'koi_steff', 'koi_steff_err1', 'koi_steff_err2', 'koi_slogg', 'koi_slogg_err1', 'koi_slogg_err2', 'koi_srad', 'koi_srad_err1', 'koi_srad_err2', 'ra', 'dec', 'koi_kepmag']\n",
      "[1 1 1 1 1 1 1 1 1 1 1 1 1 1 1 1 1 1 1 1 1 1 1 1 1 1 1 1 1 1 1 1 1 1 1 1 1\n",
      " 1 1]\n"
     ]
    }
   ],
   "source": [
    "feature_set = [y for x,y in zip(selected_features, features) if x]\n",
    "print(feature_set)\n",
    "feature_set_score=features_rank[selected_features]\n",
    "print(feature_set_score)"
   ]
  },
  {
   "cell_type": "markdown",
   "metadata": {},
   "source": [
    "### Plot the Feature Importance [***Note: Recursive Feature Elimination provides rank to each features without assigning any score to determine the importance of the features***]"
   ]
  },
  {
   "cell_type": "code",
   "execution_count": 19,
   "metadata": {},
   "outputs": [
    {
     "data": {
      "text/plain": [
       "Text(0.5, 0, 'Score')"
      ]
     },
     "execution_count": 19,
     "metadata": {},
     "output_type": "execute_result"
    },
    {
     "data": {
      "image/png": "[encoded data removed]",
      "text/plain": [
       "<Figure size 1080x720 with 1 Axes>"
      ]
     },
     "metadata": {
      "needs_background": "light"
     },
     "output_type": "display_data"
    }
   ],
   "source": [
    "fig, ax = plt.subplots(figsize=(15,10))\n",
    "ax.barh(feature_set, feature_set_score, color='blue')\n",
    "plt.title(\"Feature Importance with a Rank:1\")\n",
    "plt.ylabel(\"Features\")\n",
    "plt.xlabel(\"Score\")"
   ]
  },
  {
   "cell_type": "markdown",
   "metadata": {},
   "source": [
    "### **SelectFromModel** [***Note: the \"threshold\" value is the mean of the feature importance, by default. Otherwise, it is set to (1e-5), when the estimator has a parameter penalty set to \"L1\"***]"
   ]
  },
  {
   "cell_type": "markdown",
   "metadata": {},
   "source": [
    "- L1-based feature selection\n",
    "- Tree-based feature selection\n",
    "- Permutation Importance"
   ]
  },
  {
   "cell_type": "code",
   "execution_count": 20,
   "metadata": {},
   "outputs": [],
   "source": [
    "#\n",
    "# L1-based feature selection\n",
    "#\n",
    "#estimator = LogisticRegression(penalty=\"l1\", solver=\"liblinear\").fit(X_train, y_train)\n",
    "# \n",
    "# Tree-based feature selection\n",
    "#\n",
    "estimator = ExtraTreesClassifier(n_estimators=100).fit(X_train, y_train)\n",
    "#\n",
    "# Permutation Importance\n",
    "#\n",
    "#estimator = PermutationImportance(LogisticRegression(), cv=5).fit(X_train, y_train)\n",
    "model = SelectFromModel(estimator, prefit=True)"
   ]
  },
  {
   "cell_type": "code",
   "execution_count": 21,
   "metadata": {},
   "outputs": [],
   "source": [
    "#\n",
    "# Mask for the selected features\n",
    "#\n",
    "selected_features=model.get_support()\n",
    "#\n",
    "# Return scores for the features [only for tree-based classifiers]\n",
    "#\n",
    "features_score=estimator.feature_importances_"
   ]
  },
  {
   "cell_type": "code",
   "execution_count": 22,
   "metadata": {},
   "outputs": [
    {
     "name": "stdout",
     "output_type": "stream",
     "text": [
      "Masked Selected Features are: [ True  True  True  True False False False False False False False False\n",
      " False False  True  True False False False False False False False False\n",
      " False False  True False False False False False False False False False\n",
      " False False False False]\n",
      "\n",
      " Features' score is: [0.13888888 0.16447769 0.11998936 0.05783487 0.02037063 0.01354188\n",
      " 0.01503428 0.01405084 0.0223057  0.01873321 0.01272002 0.01209016\n",
      " 0.01017243 0.01748127 0.0262423  0.02819637 0.01885091 0.013023\n",
      " 0.01181755 0.01555872 0.01190151 0.01050476 0.01635065 0.00913779\n",
      " 0.0093778  0.00874971 0.02743648 0.00969702 0.01044083 0.02155748\n",
      " 0.01708834 0.01117592 0.01062683 0.01389864 0.00872962 0.01039943\n",
      " 0.00924994 0.0118767  0.01039173 0.01002875]\n"
     ]
    }
   ],
   "source": [
    "print(f\"Masked Selected Features are: {selected_features}\\n\\n Features' score is: {features_score}\")"
   ]
  },
  {
   "cell_type": "markdown",
   "metadata": {},
   "source": [
    "### To obtain the transformed data set"
   ]
  },
  {
   "cell_type": "code",
   "execution_count": 23,
   "metadata": {},
   "outputs": [
    {
     "name": "stdout",
     "output_type": "stream",
     "text": [
      "(5592, 7) (1399, 7)\n"
     ]
    }
   ],
   "source": [
    "X_train_transformed = X_train.loc[:,selected_features]\n",
    "X_test_transformed = X_test.loc[:,selected_features]\n",
    "print(X_train_transformed.shape, X_test_transformed.shape)"
   ]
  },
  {
   "cell_type": "markdown",
   "metadata": {},
   "source": [
    "### Features selected after the transformation"
   ]
  },
  {
   "cell_type": "code",
   "execution_count": 24,
   "metadata": {},
   "outputs": [
    {
     "name": "stdout",
     "output_type": "stream",
     "text": [
      "['koi_fpflag_nt', 'koi_fpflag_ss', 'koi_fpflag_co', 'koi_fpflag_ec', 'koi_duration_err1', 'koi_duration_err2', 'koi_model_snr']\n",
      "[0.13888888 0.16447769 0.11998936 0.05783487 0.0262423  0.02819637\n",
      " 0.02743648]\n"
     ]
    }
   ],
   "source": [
    "feature_set = [y for x,y in zip(selected_features, features) if x]\n",
    "print(feature_set)\n",
    "feature_set_score=features_score[selected_features]\n",
    "print(feature_set_score)"
   ]
  },
  {
   "cell_type": "markdown",
   "metadata": {},
   "source": [
    "### Plot the Feature Importance [***Note: We don't have to provide explicitly the number of features needed to be count as \"important features\". It is determined by the classifier itself***]"
   ]
  },
  {
   "cell_type": "code",
   "execution_count": 25,
   "metadata": {},
   "outputs": [
    {
     "data": {
      "text/plain": [
       "Text(0.5, 0, 'Score')"
      ]
     },
     "execution_count": 25,
     "metadata": {},
     "output_type": "execute_result"
    },
    {
     "data": {
      "image/png": "[encoded data removed]",
      "text/plain": [
       "<Figure size 1080x720 with 1 Axes>"
      ]
     },
     "metadata": {
      "needs_background": "light"
     },
     "output_type": "display_data"
    }
   ],
   "source": [
    "fig, ax = plt.subplots(figsize=(15,10))\n",
    "ax.barh(feature_set, feature_set_score, color='blue')\n",
    "plt.title(\"Feature Importance\")\n",
    "plt.ylabel(\"Features\")\n",
    "plt.xlabel(\"Score\")"
   ]
  },
  {
   "cell_type": "markdown",
   "metadata": {},
   "source": [
    "### Sequential Feature Selection [Forward/Backward]"
   ]
  },
  {
   "cell_type": "code",
   "execution_count": 26,
   "metadata": {},
   "outputs": [
    {
     "data": {
      "text/plain": [
       "SequentialFeatureSelector(direction='backward',\n",
       "                          estimator=DecisionTreeClassifier(),\n",
       "                          n_features_to_select=20)"
      ]
     },
     "execution_count": 26,
     "metadata": {},
     "output_type": "execute_result"
    }
   ],
   "source": [
    "# Build a un-fitted estimator\n",
    "estimator = DecisionTreeClassifier()\n",
    "# \"n_features_to_select\" is a hyper-parameter\n",
    "model = SequentialFeatureSelector(estimator, n_features_to_select=20, direction='backward', cv=5)\n",
    "model.fit(X_train, y_train)"
   ]
  },
  {
   "cell_type": "code",
   "execution_count": 27,
   "metadata": {},
   "outputs": [
    {
     "name": "stdout",
     "output_type": "stream",
     "text": [
      "Masked Selected Features are: [ True  True  True  True  True  True False False  True False False False\n",
      "  True  True False  True  True False False  True False  True False False\n",
      " False False  True  True False  True False False False  True False False\n",
      " False  True  True  True]\n"
     ]
    }
   ],
   "source": [
    "#\n",
    "# Mask for the selected features\n",
    "#\n",
    "selected_features=model.get_support()\n",
    "#\n",
    "print(f\"Masked Selected Features are: {selected_features}\")\n"
   ]
  },
  {
   "cell_type": "markdown",
   "metadata": {},
   "source": [
    "### To obtain the transformed data set"
   ]
  },
  {
   "cell_type": "code",
   "execution_count": 28,
   "metadata": {},
   "outputs": [
    {
     "name": "stdout",
     "output_type": "stream",
     "text": [
      "(5592, 20) (1399, 20)\n"
     ]
    }
   ],
   "source": [
    "X_train_transformed = X_train.loc[:,selected_features]\n",
    "X_test_transformed = X_test.loc[:,selected_features]\n",
    "print(X_train_transformed.shape, X_test_transformed.shape)"
   ]
  },
  {
   "cell_type": "markdown",
   "metadata": {},
   "source": [
    "### Features selected after the transformation"
   ]
  },
  {
   "cell_type": "code",
   "execution_count": 29,
   "metadata": {},
   "outputs": [
    {
     "name": "stdout",
     "output_type": "stream",
     "text": [
      "['koi_fpflag_nt', 'koi_fpflag_ss', 'koi_fpflag_co', 'koi_fpflag_ec', 'koi_period', 'koi_period_err1', 'koi_time0bk_err1', 'koi_impact_err2', 'koi_duration', 'koi_duration_err2', 'koi_depth', 'koi_prad', 'koi_prad_err2', 'koi_model_snr', 'koi_tce_plnt_num', 'koi_steff_err1', 'koi_slogg_err2', 'ra', 'dec', 'koi_kepmag']\n",
      "[1. 1. 1. 1. 1. 1. 1. 1. 1. 1. 1. 1. 1. 1. 1. 1. 1. 1. 1. 1.]\n"
     ]
    }
   ],
   "source": [
    "feature_set = [y for x,y in zip(selected_features, features) if x]\n",
    "print(feature_set)\n",
    "feature_set_score= np.ones(len(feature_set))\n",
    "print(feature_set_score)"
   ]
  },
  {
   "cell_type": "markdown",
   "metadata": {},
   "source": [
    "### Plot the Feature Importance [***Note: Sequential Feature Selection selects the best features without assigning any score to the features. Although we're using a tree-based model, which has \"feature_importance\" parameter, but we are fitting the training data to the \"SequentialFeatureSelector\" and not the \"DecisionTreeClassifier\". Also, the all tree-based classifiers picked the same seven features.***]"
   ]
  },
  {
   "cell_type": "code",
   "execution_count": 30,
   "metadata": {},
   "outputs": [
    {
     "data": {
      "text/plain": [
       "Text(0.5, 0, 'Score')"
      ]
     },
     "execution_count": 30,
     "metadata": {},
     "output_type": "execute_result"
    },
    {
     "data": {
      "image/png": "[encoded data removed]",
      "text/plain": [
       "<Figure size 1080x720 with 1 Axes>"
      ]
     },
     "metadata": {
      "needs_background": "light"
     },
     "output_type": "display_data"
    }
   ],
   "source": [
    "fig, ax = plt.subplots(figsize=(15,10))\n",
    "ax.barh(feature_set, feature_set_score, color='blue')\n",
    "plt.title(\"Feature Importance\")\n",
    "plt.ylabel(\"Features\")\n",
    "plt.xlabel(\"Score\")"
   ]
  },
  {
   "cell_type": "markdown",
   "metadata": {},
   "source": [
    "## Analysis"
   ]
  },
  {
   "cell_type": "markdown",
   "metadata": {},
   "source": [
    "### We can find from the above analysis that the features of interest are - [ koi_fpflag_nt, koi_fpflag_ss, koi_fpflag_co, koi_fpflag_ec]. We can next analyze if there exists any correlation among these features."
   ]
  },
  {
   "cell_type": "code",
   "execution_count": 31,
   "metadata": {},
   "outputs": [
    {
     "name": "stdout",
     "output_type": "stream",
     "text": [
      "[0, 1, 2, 3, 26]\n"
     ]
    },
    {
     "data": {
      "text/html": [
       "<div>\n",
       "<style scoped>\n",
       "    .dataframe tbody tr th:only-of-type {\n",
       "        vertical-align: middle;\n",
       "    }\n",
       "\n",
       "    .dataframe tbody tr th {\n",
       "        vertical-align: top;\n",
       "    }\n",
       "\n",
       "    .dataframe thead th {\n",
       "        text-align: right;\n",
       "    }\n",
       "</style>\n",
       "<table border=\"1\" class=\"dataframe\">\n",
       "  <thead>\n",
       "    <tr style=\"text-align: right;\">\n",
       "      <th></th>\n",
       "      <th>koi_fpflag_nt</th>\n",
       "      <th>koi_fpflag_ss</th>\n",
       "      <th>koi_fpflag_co</th>\n",
       "      <th>koi_fpflag_ec</th>\n",
       "      <th>koi_model_snr</th>\n",
       "    </tr>\n",
       "  </thead>\n",
       "  <tbody>\n",
       "    <tr>\n",
       "      <th>0</th>\n",
       "      <td>0.0</td>\n",
       "      <td>0.0</td>\n",
       "      <td>1.0</td>\n",
       "      <td>1.0</td>\n",
       "      <td>0.000773</td>\n",
       "    </tr>\n",
       "    <tr>\n",
       "      <th>1</th>\n",
       "      <td>0.0</td>\n",
       "      <td>0.0</td>\n",
       "      <td>0.0</td>\n",
       "      <td>0.0</td>\n",
       "      <td>0.002110</td>\n",
       "    </tr>\n",
       "    <tr>\n",
       "      <th>2</th>\n",
       "      <td>0.0</td>\n",
       "      <td>0.0</td>\n",
       "      <td>0.0</td>\n",
       "      <td>0.0</td>\n",
       "      <td>0.000950</td>\n",
       "    </tr>\n",
       "    <tr>\n",
       "      <th>3</th>\n",
       "      <td>0.0</td>\n",
       "      <td>0.0</td>\n",
       "      <td>0.0</td>\n",
       "      <td>0.0</td>\n",
       "      <td>0.001171</td>\n",
       "    </tr>\n",
       "    <tr>\n",
       "      <th>4</th>\n",
       "      <td>0.0</td>\n",
       "      <td>1.0</td>\n",
       "      <td>0.0</td>\n",
       "      <td>0.0</td>\n",
       "      <td>0.005292</td>\n",
       "    </tr>\n",
       "  </tbody>\n",
       "</table>\n",
       "</div>"
      ],
      "text/plain": [
       "   koi_fpflag_nt  koi_fpflag_ss  koi_fpflag_co  koi_fpflag_ec  koi_model_snr\n",
       "0            0.0            0.0            1.0            1.0       0.000773\n",
       "1            0.0            0.0            0.0            0.0       0.002110\n",
       "2            0.0            0.0            0.0            0.0       0.000950\n",
       "3            0.0            0.0            0.0            0.0       0.001171\n",
       "4            0.0            1.0            0.0            0.0       0.005292"
      ]
     },
     "execution_count": 31,
     "metadata": {},
     "output_type": "execute_result"
    }
   ],
   "source": [
    "features_of_interest= ['koi_fpflag_nt', 'koi_fpflag_ss', 'koi_fpflag_co', 'koi_fpflag_ec', 'koi_model_snr']\n",
    "#features_of_interest=features\n",
    "idx = [i for i, e in enumerate(features) if e in features_of_interest]\n",
    "print(idx)\n",
    "data = train_data.iloc[:,idx]\n",
    "data.columns=features_of_interest\n",
    "data.head()\n"
   ]
  },
  {
   "cell_type": "code",
   "execution_count": 32,
   "metadata": {},
   "outputs": [
    {
     "data": {
      "text/plain": [
       "Text(0.5, 1.0, 'HeatMap For Determining Correlation')"
      ]
     },
     "execution_count": 32,
     "metadata": {},
     "output_type": "execute_result"
    },
    {
     "data": {
      "image/png": "[encoded data removed]",
      "text/plain": [
       "<Figure size 432x288 with 2 Axes>"
      ]
     },
     "metadata": {
      "needs_background": "light"
     },
     "output_type": "display_data"
    }
   ],
   "source": [
    "corr=data.corr()\n",
    "ax=plt.axes()\n",
    "sns.heatmap(corr, ax=ax)\n",
    "ax.set_title(\"HeatMap For Determining Correlation\")"
   ]
  },
  {
   "cell_type": "markdown",
   "metadata": {},
   "source": [
    "### Correlation exists between 'koi_fpflag_co', 'koi_fpflag_ec' and corr between them is > 0.5"
   ]
  },
  {
   "cell_type": "markdown",
   "metadata": {},
   "source": [
    "# Exit"
   ]
  }
 ],
 "metadata": {
  "kernelspec": {
   "display_name": "Python 3",
   "language": "python",
   "name": "python3"
  },
  "language_info": {
   "codemirror_mode": {
    "name": "ipython",
    "version": 3
   },
   "file_extension": ".py",
   "mimetype": "text/x-python",
   "name": "python",
   "nbconvert_exporter": "python",
   "pygments_lexer": "ipython3",
   "version": "3.8.8"
  }
 },
 "nbformat": 4,
 "nbformat_minor": 4
}
